{
 "cells": [
  {
   "cell_type": "code",
   "execution_count": 31,
   "id": "663acc29-7877-4f0e-a8b3-97325fc93a64",
   "metadata": {},
   "outputs": [],
   "source": [
    "import pandas as pd\n",
    "import numpy as np "
   ]
  },
  {
   "cell_type": "code",
   "execution_count": 299,
   "id": "b1d1e5cc-919d-4880-9ec7-ffd31315d607",
   "metadata": {},
   "outputs": [
    {
     "data": {
      "text/html": [
       "<div>\n",
       "<style scoped>\n",
       "    .dataframe tbody tr th:only-of-type {\n",
       "        vertical-align: middle;\n",
       "    }\n",
       "\n",
       "    .dataframe tbody tr th {\n",
       "        vertical-align: top;\n",
       "    }\n",
       "\n",
       "    .dataframe thead th {\n",
       "        text-align: right;\n",
       "    }\n",
       "</style>\n",
       "<table border=\"1\" class=\"dataframe\">\n",
       "  <thead>\n",
       "    <tr style=\"text-align: right;\">\n",
       "      <th></th>\n",
       "      <th>step</th>\n",
       "      <th>customer</th>\n",
       "      <th>age</th>\n",
       "      <th>gender</th>\n",
       "      <th>zipcodeOri</th>\n",
       "      <th>merchant</th>\n",
       "      <th>zipMerchant</th>\n",
       "      <th>category</th>\n",
       "      <th>amount</th>\n",
       "      <th>fraud</th>\n",
       "    </tr>\n",
       "  </thead>\n",
       "  <tbody>\n",
       "    <tr>\n",
       "      <th>0</th>\n",
       "      <td>0</td>\n",
       "      <td>'C1093826151'</td>\n",
       "      <td>'4'</td>\n",
       "      <td>'M'</td>\n",
       "      <td>'28007'</td>\n",
       "      <td>'M348934600'</td>\n",
       "      <td>'28007'</td>\n",
       "      <td>'es_transportation'</td>\n",
       "      <td>4.55</td>\n",
       "      <td>0</td>\n",
       "    </tr>\n",
       "    <tr>\n",
       "      <th>1</th>\n",
       "      <td>0</td>\n",
       "      <td>'C352968107'</td>\n",
       "      <td>'2'</td>\n",
       "      <td>'M'</td>\n",
       "      <td>'28007'</td>\n",
       "      <td>'M348934600'</td>\n",
       "      <td>'28007'</td>\n",
       "      <td>'es_transportation'</td>\n",
       "      <td>39.68</td>\n",
       "      <td>0</td>\n",
       "    </tr>\n",
       "    <tr>\n",
       "      <th>2</th>\n",
       "      <td>0</td>\n",
       "      <td>'C2054744914'</td>\n",
       "      <td>'4'</td>\n",
       "      <td>'F'</td>\n",
       "      <td>'28007'</td>\n",
       "      <td>'M1823072687'</td>\n",
       "      <td>'28007'</td>\n",
       "      <td>'es_transportation'</td>\n",
       "      <td>26.89</td>\n",
       "      <td>0</td>\n",
       "    </tr>\n",
       "    <tr>\n",
       "      <th>3</th>\n",
       "      <td>0</td>\n",
       "      <td>'C1760612790'</td>\n",
       "      <td>'3'</td>\n",
       "      <td>'M'</td>\n",
       "      <td>'28007'</td>\n",
       "      <td>'M348934600'</td>\n",
       "      <td>'28007'</td>\n",
       "      <td>'es_transportation'</td>\n",
       "      <td>17.25</td>\n",
       "      <td>0</td>\n",
       "    </tr>\n",
       "    <tr>\n",
       "      <th>4</th>\n",
       "      <td>0</td>\n",
       "      <td>'C757503768'</td>\n",
       "      <td>'5'</td>\n",
       "      <td>'M'</td>\n",
       "      <td>'28007'</td>\n",
       "      <td>'M348934600'</td>\n",
       "      <td>'28007'</td>\n",
       "      <td>'es_transportation'</td>\n",
       "      <td>35.72</td>\n",
       "      <td>0</td>\n",
       "    </tr>\n",
       "  </tbody>\n",
       "</table>\n",
       "</div>"
      ],
      "text/plain": [
       "   step       customer  age gender zipcodeOri       merchant zipMerchant   \n",
       "0     0  'C1093826151'  '4'    'M'    '28007'   'M348934600'     '28007'  \\\n",
       "1     0   'C352968107'  '2'    'M'    '28007'   'M348934600'     '28007'   \n",
       "2     0  'C2054744914'  '4'    'F'    '28007'  'M1823072687'     '28007'   \n",
       "3     0  'C1760612790'  '3'    'M'    '28007'   'M348934600'     '28007'   \n",
       "4     0   'C757503768'  '5'    'M'    '28007'   'M348934600'     '28007'   \n",
       "\n",
       "              category  amount  fraud  \n",
       "0  'es_transportation'    4.55      0  \n",
       "1  'es_transportation'   39.68      0  \n",
       "2  'es_transportation'   26.89      0  \n",
       "3  'es_transportation'   17.25      0  \n",
       "4  'es_transportation'   35.72      0  "
      ]
     },
     "execution_count": 299,
     "metadata": {},
     "output_type": "execute_result"
    }
   ],
   "source": [
    "df = pd.read_csv('Data.csv')\n",
    "df.head()\n",
    "df.info()\n",
    "category_list = df['category'].unique()"
   ]
  },
  {
   "cell_type": "code",
   "execution_count": 302,
   "id": "545adcef-07f0-4ac5-af2f-f3ce21e555af",
   "metadata": {},
   "outputs": [],
   "source": [
    "from sklearn.preprocessing import LabelEncoder\n",
    "ce = LabelEncoder() \n",
    "df['category'] = ce.fit_transform(df['category'])"
   ]
  },
  {
   "cell_type": "code",
   "execution_count": 305,
   "id": "cebfe2a4-1118-4142-a132-c451560a2b16",
   "metadata": {},
   "outputs": [
    {
     "data": {
      "text/plain": [
       "\"'U'\""
      ]
     },
     "execution_count": 305,
     "metadata": {},
     "output_type": "execute_result"
    }
   ],
   "source": [
    "df2 =df.loc[0:49999, df.columns.drop(['step','customer','gender','zipMerchant','merchant','zipcodeOri'])]\n",
    "for i in range(len(df2['age'])):\n",
    "    if df['age'][i] == \"'U'\":\n",
    "        df2 = df2.drop(labels=i, axis=0)\n",
    "        \n",
    "df2.dtypes"
   ]
  },
  {
   "cell_type": "code",
   "execution_count": 312,
   "id": "dd65a3af-c5e5-4268-8188-4753e7734387",
   "metadata": {},
   "outputs": [],
   "source": [
    "import re"
   ]
  },
  {
   "cell_type": "code",
   "execution_count": 313,
   "id": "f0c7ab6d-ad7d-45a7-afbc-ad7a0c1b8eb2",
   "metadata": {
    "tags": []
   },
   "outputs": [],
   "source": [
    "df2['age'] = df2['age'].str.replace('[^0-9]', '', regex=True).astype(int)\n",
    "\n",
    "#df2['merchant'] = df2['merchant'].str.sub('[^0-9]', '', regex=True).astype('int64')\n",
    "#df2['merchant'] = df2['merchant'].replace('[^0-9]', '', regex=True).astype('int64')\n",
    "#df2['merchant'] = re.sub(\"M\", \"0\",df['merchant'].to_list()).astype('int64')"
   ]
  },
  {
   "cell_type": "code",
   "execution_count": 315,
   "id": "ba9d3d8a-28cc-48e9-ae50-6aa17ab1b40f",
   "metadata": {},
   "outputs": [],
   "source": [
    "# df2['age'] = df2['age'].str.replace('[^0-9]', '', regex=True)\n",
    "\n",
    "#df2['merchant'] = df2['merchant'].str.sub('[^0-9]', '', regex=True).astype('int64')\n",
    "#df2['merchant'] = df2['merchant'].replace('[^0-9]', '', regex=True).astype('int64')\n",
    "#df2['merchant'] = re.sub(\"M\", \"0\",df['merchant'].to_list()).astype('int64')"
   ]
  },
  {
   "cell_type": "code",
   "execution_count": 316,
   "id": "51cc630d-56f5-4f1f-b3b2-d9d10d53d939",
   "metadata": {},
   "outputs": [],
   "source": [
    "df2['age']= df2['age'].astype('int')"
   ]
  },
  {
   "cell_type": "code",
   "execution_count": 317,
   "id": "f964f323-5174-4742-9302-ed4c4c7ef7c5",
   "metadata": {},
   "outputs": [
    {
     "data": {
      "text/html": [
       "<div>\n",
       "<style scoped>\n",
       "    .dataframe tbody tr th:only-of-type {\n",
       "        vertical-align: middle;\n",
       "    }\n",
       "\n",
       "    .dataframe tbody tr th {\n",
       "        vertical-align: top;\n",
       "    }\n",
       "\n",
       "    .dataframe thead th {\n",
       "        text-align: right;\n",
       "    }\n",
       "</style>\n",
       "<table border=\"1\" class=\"dataframe\">\n",
       "  <thead>\n",
       "    <tr style=\"text-align: right;\">\n",
       "      <th></th>\n",
       "      <th>age</th>\n",
       "      <th>category</th>\n",
       "      <th>amount</th>\n",
       "      <th>fraud</th>\n",
       "    </tr>\n",
       "  </thead>\n",
       "  <tbody>\n",
       "    <tr>\n",
       "      <th>count</th>\n",
       "      <td>49926.000000</td>\n",
       "      <td>49926.000000</td>\n",
       "      <td>49926.000000</td>\n",
       "      <td>49926.000000</td>\n",
       "    </tr>\n",
       "    <tr>\n",
       "      <th>mean</th>\n",
       "      <td>3.001682</td>\n",
       "      <td>11.134759</td>\n",
       "      <td>39.904945</td>\n",
       "      <td>0.015503</td>\n",
       "    </tr>\n",
       "    <tr>\n",
       "      <th>std</th>\n",
       "      <td>1.330011</td>\n",
       "      <td>2.755710</td>\n",
       "      <td>130.796801</td>\n",
       "      <td>0.123543</td>\n",
       "    </tr>\n",
       "    <tr>\n",
       "      <th>min</th>\n",
       "      <td>0.000000</td>\n",
       "      <td>0.000000</td>\n",
       "      <td>0.000000</td>\n",
       "      <td>0.000000</td>\n",
       "    </tr>\n",
       "    <tr>\n",
       "      <th>25%</th>\n",
       "      <td>2.000000</td>\n",
       "      <td>12.000000</td>\n",
       "      <td>13.802500</td>\n",
       "      <td>0.000000</td>\n",
       "    </tr>\n",
       "    <tr>\n",
       "      <th>50%</th>\n",
       "      <td>3.000000</td>\n",
       "      <td>12.000000</td>\n",
       "      <td>26.980000</td>\n",
       "      <td>0.000000</td>\n",
       "    </tr>\n",
       "    <tr>\n",
       "      <th>75%</th>\n",
       "      <td>4.000000</td>\n",
       "      <td>12.000000</td>\n",
       "      <td>42.880000</td>\n",
       "      <td>0.000000</td>\n",
       "    </tr>\n",
       "    <tr>\n",
       "      <th>max</th>\n",
       "      <td>6.000000</td>\n",
       "      <td>14.000000</td>\n",
       "      <td>7432.480000</td>\n",
       "      <td>1.000000</td>\n",
       "    </tr>\n",
       "  </tbody>\n",
       "</table>\n",
       "</div>"
      ],
      "text/plain": [
       "                age      category        amount         fraud\n",
       "count  49926.000000  49926.000000  49926.000000  49926.000000\n",
       "mean       3.001682     11.134759     39.904945      0.015503\n",
       "std        1.330011      2.755710    130.796801      0.123543\n",
       "min        0.000000      0.000000      0.000000      0.000000\n",
       "25%        2.000000     12.000000     13.802500      0.000000\n",
       "50%        3.000000     12.000000     26.980000      0.000000\n",
       "75%        4.000000     12.000000     42.880000      0.000000\n",
       "max        6.000000     14.000000   7432.480000      1.000000"
      ]
     },
     "execution_count": 317,
     "metadata": {},
     "output_type": "execute_result"
    }
   ],
   "source": [
    "df2.describe()"
   ]
  },
  {
   "cell_type": "code",
   "execution_count": 319,
   "id": "992d45cb-a4d8-4301-ab46-2d3b49f6b05a",
   "metadata": {},
   "outputs": [],
   "source": [
    "from keras import Sequential, Model, Input,regularizers\n",
    "from keras import layers\n",
    "from keras.regularizers import l2\n",
    "from keras.layers import Dropout\n",
    "from tensorflow.keras.layers import Dense\n",
    "from tensorflow.keras.optimizers import Adam\n",
    "from sklearn.model_selection import train_test_split"
   ]
  },
  {
   "cell_type": "code",
   "execution_count": 320,
   "id": "d3131cba-e826-49d4-b654-9ce621fb92f6",
   "metadata": {},
   "outputs": [],
   "source": [
    "X = df2.drop(['fraud'],axis=1).values\n",
    "Y = df2[['fraud']].values\n",
    "\n",
    "df2.dtypes"
   ]
  },
  {
   "cell_type": "code",
   "execution_count": 323,
   "id": "d6cce915-60cf-40d5-9157-e4f77fb4569c",
   "metadata": {},
   "outputs": [],
   "source": [
    "x_train,x_test,y_train,y_test = train_test_split(X,Y,test_size=0.20,random_state=4)"
   ]
  },
  {
   "cell_type": "code",
   "execution_count": 328,
   "id": "aaff37df-027b-413e-8998-3f47735def8d",
   "metadata": {},
   "outputs": [
    {
     "name": "stdout",
     "output_type": "stream",
     "text": [
      "Model: \"sequential_4\"\n",
      "_________________________________________________________________\n",
      " Layer (type)                Output Shape              Param #   \n",
      "=================================================================\n",
      " dense_12 (Dense)            (None, 3)                 12        \n",
      "                                                                 \n",
      " dense_13 (Dense)            (None, 2)                 8         \n",
      "                                                                 \n",
      " dense_14 (Dense)            (None, 1)                 3         \n",
      "                                                                 \n",
      "=================================================================\n",
      "Total params: 23\n",
      "Trainable params: 23\n",
      "Non-trainable params: 0\n",
      "_________________________________________________________________\n"
     ]
    }
   ],
   "source": [
    "model=Sequential()\n",
    "model.add(Dense(3,activation=\"relu\",input_shape=(3,)))\n",
    "model.add(Dense(units=2,activation=\"relu\"))\n",
    "model.add(Dense(units=1,activation=\"sigmoid\"))\n",
    "model.summary()"
   ]
  },
  {
   "cell_type": "code",
   "execution_count": 329,
   "id": "9acb60e0-8c4d-4266-b6f0-d00c24b7d0f1",
   "metadata": {},
   "outputs": [],
   "source": [
    "model.compile(optimizer = 'Adam', loss=\"binary_crossentropy\",metrics=[\"accuracy\"])"
   ]
  },
  {
   "cell_type": "code",
   "execution_count": 330,
   "id": "a81e41c9-de87-41a4-a7f5-cf645b23f4d2",
   "metadata": {},
   "outputs": [
    {
     "name": "stdout",
     "output_type": "stream",
     "text": [
      "Epoch 1/50\n",
      "40/40 [==============================] - 1s 5ms/step - loss: 0.6660 - accuracy: 0.9832 - val_loss: 0.6501 - val_accuracy: 0.9813\n",
      "Epoch 2/50\n",
      "40/40 [==============================] - 0s 2ms/step - loss: 0.6356 - accuracy: 0.9841 - val_loss: 0.6177 - val_accuracy: 0.9820\n",
      "Epoch 3/50\n",
      "40/40 [==============================] - 0s 2ms/step - loss: 0.6011 - accuracy: 0.9847 - val_loss: 0.5798 - val_accuracy: 0.9824\n",
      "Epoch 4/50\n",
      "40/40 [==============================] - 0s 2ms/step - loss: 0.4489 - accuracy: 0.9850 - val_loss: 0.3054 - val_accuracy: 0.9824\n",
      "Epoch 5/50\n",
      "40/40 [==============================] - 0s 2ms/step - loss: 0.2271 - accuracy: 0.9850 - val_loss: 0.1744 - val_accuracy: 0.9824\n",
      "Epoch 6/50\n",
      "40/40 [==============================] - 0s 2ms/step - loss: 0.1413 - accuracy: 0.9850 - val_loss: 0.1226 - val_accuracy: 0.9824\n",
      "Epoch 7/50\n",
      "40/40 [==============================] - 0s 2ms/step - loss: 0.1060 - accuracy: 0.9850 - val_loss: 0.0987 - val_accuracy: 0.9824\n",
      "Epoch 8/50\n",
      "40/40 [==============================] - 0s 2ms/step - loss: 0.0873 - accuracy: 0.9850 - val_loss: 0.0849 - val_accuracy: 0.9824\n",
      "Epoch 9/50\n",
      "40/40 [==============================] - 0s 2ms/step - loss: 0.0762 - accuracy: 0.9850 - val_loss: 0.0761 - val_accuracy: 0.9824\n",
      "Epoch 10/50\n",
      "40/40 [==============================] - 0s 2ms/step - loss: 0.0690 - accuracy: 0.9850 - val_loss: 0.0708 - val_accuracy: 0.9824\n",
      "Epoch 11/50\n",
      "40/40 [==============================] - 0s 2ms/step - loss: 0.0641 - accuracy: 0.9850 - val_loss: 0.0669 - val_accuracy: 0.9824\n",
      "Epoch 12/50\n",
      "40/40 [==============================] - 0s 2ms/step - loss: 0.0605 - accuracy: 0.9850 - val_loss: 0.0640 - val_accuracy: 0.9824\n",
      "Epoch 13/50\n",
      "40/40 [==============================] - 0s 2ms/step - loss: 0.0578 - accuracy: 0.9850 - val_loss: 0.0616 - val_accuracy: 0.9824\n",
      "Epoch 14/50\n",
      "40/40 [==============================] - 0s 2ms/step - loss: 0.0557 - accuracy: 0.9850 - val_loss: 0.0604 - val_accuracy: 0.9824\n",
      "Epoch 15/50\n",
      "40/40 [==============================] - 0s 2ms/step - loss: 0.0542 - accuracy: 0.9850 - val_loss: 0.0579 - val_accuracy: 0.9824\n",
      "Epoch 16/50\n",
      "40/40 [==============================] - 0s 2ms/step - loss: 0.0529 - accuracy: 0.9850 - val_loss: 0.0578 - val_accuracy: 0.9824\n",
      "Epoch 17/50\n",
      "40/40 [==============================] - 0s 2ms/step - loss: 0.0517 - accuracy: 0.9850 - val_loss: 0.0569 - val_accuracy: 0.9824\n",
      "Epoch 18/50\n",
      "40/40 [==============================] - 0s 2ms/step - loss: 0.0508 - accuracy: 0.9850 - val_loss: 0.0556 - val_accuracy: 0.9824\n",
      "Epoch 19/50\n",
      "40/40 [==============================] - 0s 2ms/step - loss: 0.0499 - accuracy: 0.9850 - val_loss: 0.0545 - val_accuracy: 0.9824\n",
      "Epoch 20/50\n",
      "40/40 [==============================] - 0s 2ms/step - loss: 0.0492 - accuracy: 0.9850 - val_loss: 0.0539 - val_accuracy: 0.9824\n",
      "Epoch 21/50\n",
      "40/40 [==============================] - 0s 2ms/step - loss: 0.0485 - accuracy: 0.9850 - val_loss: 0.0537 - val_accuracy: 0.9824\n",
      "Epoch 22/50\n",
      "40/40 [==============================] - 0s 2ms/step - loss: 0.0479 - accuracy: 0.9850 - val_loss: 0.0536 - val_accuracy: 0.9824\n",
      "Epoch 23/50\n",
      "40/40 [==============================] - 0s 2ms/step - loss: 0.0474 - accuracy: 0.9850 - val_loss: 0.0533 - val_accuracy: 0.9824\n",
      "Epoch 24/50\n",
      "40/40 [==============================] - 0s 2ms/step - loss: 0.0470 - accuracy: 0.9850 - val_loss: 0.0518 - val_accuracy: 0.9824\n",
      "Epoch 25/50\n",
      "40/40 [==============================] - 0s 2ms/step - loss: 0.0466 - accuracy: 0.9850 - val_loss: 0.0522 - val_accuracy: 0.9824\n",
      "Epoch 26/50\n",
      "40/40 [==============================] - 0s 2ms/step - loss: 0.0461 - accuracy: 0.9850 - val_loss: 0.0525 - val_accuracy: 0.9824\n",
      "Epoch 27/50\n",
      "40/40 [==============================] - 0s 2ms/step - loss: 0.0457 - accuracy: 0.9850 - val_loss: 0.0526 - val_accuracy: 0.9824\n",
      "Epoch 28/50\n",
      "40/40 [==============================] - 0s 2ms/step - loss: 0.0453 - accuracy: 0.9850 - val_loss: 0.0503 - val_accuracy: 0.9824\n",
      "Epoch 29/50\n",
      "40/40 [==============================] - 0s 2ms/step - loss: 0.0449 - accuracy: 0.9850 - val_loss: 0.0503 - val_accuracy: 0.9824\n",
      "Epoch 30/50\n",
      "40/40 [==============================] - 0s 2ms/step - loss: 0.0445 - accuracy: 0.9850 - val_loss: 0.0501 - val_accuracy: 0.9824\n",
      "Epoch 31/50\n",
      "40/40 [==============================] - 0s 2ms/step - loss: 0.0441 - accuracy: 0.9850 - val_loss: 0.0494 - val_accuracy: 0.9824\n",
      "Epoch 32/50\n",
      "40/40 [==============================] - 0s 2ms/step - loss: 0.0441 - accuracy: 0.9850 - val_loss: 0.0497 - val_accuracy: 0.9824\n",
      "Epoch 33/50\n",
      "40/40 [==============================] - 0s 2ms/step - loss: 0.0437 - accuracy: 0.9850 - val_loss: 0.0488 - val_accuracy: 0.9824\n",
      "Epoch 34/50\n",
      "40/40 [==============================] - 0s 2ms/step - loss: 0.0434 - accuracy: 0.9850 - val_loss: 0.0485 - val_accuracy: 0.9824\n",
      "Epoch 35/50\n",
      "40/40 [==============================] - 0s 2ms/step - loss: 0.0430 - accuracy: 0.9850 - val_loss: 0.0492 - val_accuracy: 0.9824\n",
      "Epoch 36/50\n",
      "40/40 [==============================] - 0s 2ms/step - loss: 0.0427 - accuracy: 0.9850 - val_loss: 0.0482 - val_accuracy: 0.9824\n",
      "Epoch 37/50\n",
      "40/40 [==============================] - 0s 2ms/step - loss: 0.0424 - accuracy: 0.9850 - val_loss: 0.0482 - val_accuracy: 0.9824\n",
      "Epoch 38/50\n",
      "40/40 [==============================] - 0s 2ms/step - loss: 0.0423 - accuracy: 0.9850 - val_loss: 0.0474 - val_accuracy: 0.9824\n",
      "Epoch 39/50\n",
      "40/40 [==============================] - 0s 2ms/step - loss: 0.0422 - accuracy: 0.9850 - val_loss: 0.0479 - val_accuracy: 0.9824\n",
      "Epoch 40/50\n",
      "40/40 [==============================] - 0s 2ms/step - loss: 0.0417 - accuracy: 0.9850 - val_loss: 0.0472 - val_accuracy: 0.9824\n",
      "Epoch 41/50\n",
      "40/40 [==============================] - 0s 2ms/step - loss: 0.0414 - accuracy: 0.9850 - val_loss: 0.0470 - val_accuracy: 0.9824\n",
      "Epoch 42/50\n",
      "40/40 [==============================] - 0s 2ms/step - loss: 0.0413 - accuracy: 0.9850 - val_loss: 0.0465 - val_accuracy: 0.9824\n",
      "Epoch 43/50\n",
      "40/40 [==============================] - 0s 2ms/step - loss: 0.0409 - accuracy: 0.9850 - val_loss: 0.0465 - val_accuracy: 0.9824\n",
      "Epoch 44/50\n",
      "40/40 [==============================] - 0s 2ms/step - loss: 0.0408 - accuracy: 0.9850 - val_loss: 0.0462 - val_accuracy: 0.9824\n",
      "Epoch 45/50\n",
      "40/40 [==============================] - 0s 2ms/step - loss: 0.0406 - accuracy: 0.9850 - val_loss: 0.0470 - val_accuracy: 0.9824\n",
      "Epoch 46/50\n",
      "40/40 [==============================] - 0s 2ms/step - loss: 0.0406 - accuracy: 0.9850 - val_loss: 0.0458 - val_accuracy: 0.9824\n",
      "Epoch 47/50\n",
      "40/40 [==============================] - 0s 2ms/step - loss: 0.0402 - accuracy: 0.9850 - val_loss: 0.0461 - val_accuracy: 0.9824\n",
      "Epoch 48/50\n",
      "40/40 [==============================] - 0s 2ms/step - loss: 0.0402 - accuracy: 0.9850 - val_loss: 0.0454 - val_accuracy: 0.9824\n",
      "Epoch 49/50\n",
      "40/40 [==============================] - 0s 2ms/step - loss: 0.0398 - accuracy: 0.9850 - val_loss: 0.0455 - val_accuracy: 0.9824\n",
      "Epoch 50/50\n",
      "40/40 [==============================] - 0s 2ms/step - loss: 0.0396 - accuracy: 0.9850 - val_loss: 0.0453 - val_accuracy: 0.9824\n"
     ]
    }
   ],
   "source": [
    "history = model.fit(x_train,y_train,batch_size=1000,epochs=50,validation_data=(x_test,y_test))"
   ]
  },
  {
   "cell_type": "code",
   "execution_count": 331,
   "id": "d9023614-7d47-4e73-8d9a-0a5eb0304156",
   "metadata": {},
   "outputs": [
    {
     "data": {
      "image/png": "[encoded data removed]",
      "text/plain": [
       "<Figure size 640x480 with 1 Axes>"
      ]
     },
     "metadata": {},
     "output_type": "display_data"
    }
   ],
   "source": [
    "from matplotlib import pyplot\n",
    "pyplot.plot(history.history['accuracy'], label='train')\n",
    "pyplot.plot(history.history['val_accuracy'], label='test')\n",
    "pyplot.title('Rain Today Model Accuracy')\n",
    "pyplot.ylabel('Accuracy')\n",
    "pyplot.xlabel('Epoch')\n",
    "pyplot.legend(['train','test'],loc='lower right')\n",
    "pyplot.show()"
   ]
  },
  {
   "cell_type": "code",
   "execution_count": 332,
   "id": "bb7a9942-f673-4788-952b-ab67b788654e",
   "metadata": {},
   "outputs": [
    {
     "data": {
      "image/png": "[encoded data removed]",
      "text/plain": [
       "<Figure size 640x480 with 1 Axes>"
      ]
     },
     "metadata": {},
     "output_type": "display_data"
    }
   ],
   "source": [
    "pyplot.plot(history.history['loss'], label='train')\n",
    "pyplot.plot(history.history['val_loss'], label='test')\n",
    "pyplot.title('Rain Today Model Loss')\n",
    "pyplot.ylabel('Loss')\n",
    "pyplot.xlabel('Epoch')\n",
    "pyplot.legend()\n",
    "pyplot.show()"
   ]
  }
 ],
 "metadata": {
  "kernelspec": {
   "display_name": "Python 3 [Default]",
   "language": "python",
   "name": "python3"
  },
  "language_info": {
   "codemirror_mode": {
    "name": "ipython",
    "version": 3
   },
   "file_extension": ".py",
   "mimetype": "text/x-python",
   "name": "python",
   "nbconvert_exporter": "python",
   "pygments_lexer": "ipython3",
   "version": "3.9.10"
  }
 },
 "nbformat": 4,
 "nbformat_minor": 5
}
