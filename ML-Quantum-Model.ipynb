{
 "cells": [
  {
   "cell_type": "code",
   "execution_count": 1,
   "id": "fda5a46c-1409-40ef-aa1d-416722ea0f18",
   "metadata": {
    "tags": []
   },
   "outputs": [],
   "source": [
    "#loading the data\n",
    "\n",
    "import pandas as pd\n",
    "\n",
    "bank_df = pd.read_csv('bankdata.csv.crdownload')"
   ]
  },
  {
   "cell_type": "code",
   "execution_count": 2,
   "id": "5cf5c080-50f4-41a9-ad37-b4806b000f80",
   "metadata": {
    "tags": []
   },
   "outputs": [
    {
     "data": {
      "text/plain": [
       "array([0, 0, 0, 0, 0, 0, 0, 0, 0, 0, 0, 0, 0, 0, 0, 0, 0, 0, 0, 0, 0, 0,\n",
       "       0, 0, 0, 0, 0, 0, 0, 0, 0, 0, 0, 0, 0, 0, 0, 0, 0, 0, 0, 0, 0, 0,\n",
       "       0, 0, 0, 0, 0, 0, 1, 1, 1, 1, 1, 1, 1, 1, 1, 1, 1, 1, 1, 1, 1, 1,\n",
       "       1, 1, 1, 1, 1, 1, 1, 1, 1, 1, 1, 1, 1, 1, 1, 1, 1, 1, 1, 1, 1, 1,\n",
       "       1, 1, 1, 1, 1, 1, 1, 1, 1, 1, 1, 1])"
      ]
     },
     "execution_count": 2,
     "metadata": {},
     "output_type": "execute_result"
    }
   ],
   "source": [
    "#split the data in fraud and not fraud cases\n",
    "\n",
    "result_0 = bank_df.loc[bank_df['fraud'] == 0]\n",
    "used_data0=result_0.loc[:49]\n",
    "\n",
    "\n",
    "result_1 = bank_df.loc[bank_df['fraud'] == 1]\n",
    "result_1 = result_1.reset_index()\n",
    "used_data1=result_1.loc[:49]\n",
    "\n",
    "\n",
    "#combined the frames and reset the index\n",
    "frames = [used_data0, used_data1] \n",
    "\n",
    "result = pd.concat(frames)\n",
    "result = result.reset_index()\n",
    "\n",
    "\n",
    "\n",
    "#cleaning the data\n",
    "\n",
    "result['age'] = result['age'].str.replace('[^0-9]', '', regex=True).astype(int) #(.astype(int))note that this is buggy for more than 466 data points\n",
    "result['zipcodeOri'] = result['zipcodeOri'].str.replace('[^0-9]', '', regex=True)\n",
    "result['zipMerchant'] = result['zipMerchant'].str.replace('[^0-9]', '', regex=True)\n",
    "result['merchant'] = result['merchant'].str[2:-1].astype(int)\n",
    "result['customer'] = result['customer'].str[2:-1].astype(int)\n",
    "\n",
    "\n",
    "from sklearn.preprocessing import LabelEncoder\n",
    "ce = LabelEncoder()\n",
    "result['category'] = ce.fit_transform(result['category'])\n",
    "result['gender'] = ce.fit_transform(result['gender'])\n",
    "\n",
    "\n",
    "#dropping features determined to be insignificant \n",
    "\n",
    "result=result.loc[:, result.columns.drop(['customer', 'zipcodeOri', 'merchant', 'zipMerchant','step','index', 'level_0'])]\n",
    "\n",
    "labels = result['fraud'] #y_labels\n",
    "\n",
    "\n",
    "#data examining \n",
    "result.dtypes\n",
    "result.values\n",
    "labels.values"
   ]
  },
  {
   "cell_type": "code",
   "execution_count": 3,
   "id": "a843c75d-5d05-46f1-99ed-05e89600756d",
   "metadata": {},
   "outputs": [],
   "source": [
    "#include this line if running on qbraid\n",
    "# !qbraid jobs enable default"
   ]
  },
  {
   "cell_type": "code",
   "execution_count": null,
   "id": "2b74c928-5349-4e66-9c87-180b218a68c1",
   "metadata": {},
   "outputs": [
    {
     "name": "stdout",
     "output_type": "stream",
     "text": [
      "****************************************************************************************************\n",
      "check 1: instantiating qvc\n",
      "check 2: training\n"
     ]
    }
   ],
   "source": [
    "%%time\n",
    "\n",
    "import numpy as np\n",
    "import pandas as pd\n",
    "from sklearn.model_selection import train_test_split\n",
    "from qiskit import Aer\n",
    "from qiskit.circuit.library import ZZFeatureMap\n",
    "from qiskit_machine_learning.algorithms import QSVC\n",
    "from qiskit_machine_learning.datasets import ad_hoc_data\n",
    "from qiskit_machine_learning.kernels import QuantumKernel\n",
    "\n",
    "from qiskit_ibm_provider import IBMProvider\n",
    "\n",
    "# provider = IBMProvider(instance='ibm-q-startup/qbraid/main')\n",
    "provider = IBMProvider(instance='ibm-q-education/codershq-1/nyuad-2023')\n",
    "backend = provider.get_backend('ibmq_qasm_simulator')\n",
    "\n",
    "\n",
    "# Load the credit card fraud detection dataset\n",
    "# df = pd.read_csv('creditcard.csv')\n",
    "# Split the dataset into training and testing sets\n",
    "X = result.iloc[:, :-1]\n",
    "y = result.iloc[:, -1]\n",
    "X_train, X_test, y_train, y_test = train_test_split(X, y, test_size=0.3, random_state=42)\n",
    "# Encode the training and testing data onto a quantum circuit using the ZZFeatureMap\n",
    "feature_map = ZZFeatureMap(X.shape[1], reps=2)\n",
    "# backend = Aer.get_backend('qasm_simulator')\n",
    "print('*'*100)\n",
    "qkernel = QuantumKernel(feature_map,quantum_instance=backend)\n",
    "# X_train_encoded = qkernel.evaluate(X_train)\n",
    "# X_test_encoded = qkernel.evaluate(X_test)\n",
    "# Set up the QSVC algorithm\n",
    "print('check 1: instantiating qvc')\n",
    "svm = QSVC(quantum_kernel=qkernel        \n",
    "        )\n",
    "# Train the QSVC algorithm on the training data\n",
    "print('check 2: training')\n",
    "svm.fit(X_train, y_train)\n",
    "print('check 3: done')\n",
    "# Test the QSVC algorithm on the testing data\n",
    "y_pred = svm.predict(X_test)\n",
    "print('check 4: done predict')\n",
    "# Print the accuracy of the QSVC algorithm\n",
    "Accuracy = np.mean(y_pred == y_test)\n",
    "print(\"Accuracy:\", Accuracy)\n",
    "\n",
    "\n",
    "for i in range(1000000):\n",
    "    pass"
   ]
  },
  {
   "cell_type": "code",
   "execution_count": null,
   "id": "810b0e9b-98a9-4b27-8bdc-067214178743",
   "metadata": {},
   "outputs": [],
   "source": []
  }
 ],
 "metadata": {
  "kernelspec": {
   "display_name": "Python 3 (ipykernel)",
   "language": "python",
   "name": "python3"
  },
  "language_info": {
   "codemirror_mode": {
    "name": "ipython",
    "version": 3
   },
   "file_extension": ".py",
   "mimetype": "text/x-python",
   "name": "python",
   "nbconvert_exporter": "python",
   "pygments_lexer": "ipython3",
   "version": "3.10.8"
  },
  "widgets": {
   "application/vnd.jupyter.widget-state+json": {
    "state": {},
    "version_major": 2,
    "version_minor": 0
   }
  }
 },
 "nbformat": 4,
 "nbformat_minor": 5
}
