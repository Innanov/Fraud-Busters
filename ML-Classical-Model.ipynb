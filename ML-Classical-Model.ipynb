{
 "cells": [
  {
   "cell_type": "code",
   "execution_count": 1,
   "id": "663acc29-7877-4f0e-a8b3-97325fc93a64",
   "metadata": {},
   "outputs": [],
   "source": [
    "import pandas as pd\n",
    "import numpy as np "
   ]
  },
  {
   "cell_type": "code",
   "execution_count": 14,
   "id": "b1d1e5cc-919d-4880-9ec7-ffd31315d607",
   "metadata": {},
   "outputs": [
    {
     "name": "stdout",
     "output_type": "stream",
     "text": [
      "<class 'pandas.core.frame.DataFrame'>\n",
      "RangeIndex: 594643 entries, 0 to 594642\n",
      "Data columns (total 10 columns):\n",
      " #   Column       Non-Null Count   Dtype  \n",
      "---  ------       --------------   -----  \n",
      " 0   step         594643 non-null  int64  \n",
      " 1   customer     594643 non-null  object \n",
      " 2   age          594643 non-null  object \n",
      " 3   gender       594643 non-null  object \n",
      " 4   zipcodeOri   594643 non-null  object \n",
      " 5   merchant     594643 non-null  object \n",
      " 6   zipMerchant  594643 non-null  object \n",
      " 7   category     594643 non-null  object \n",
      " 8   amount       594643 non-null  float64\n",
      " 9   fraud        594643 non-null  int64  \n",
      "dtypes: float64(1), int64(2), object(7)\n",
      "memory usage: 45.4+ MB\n"
     ]
    }
   ],
   "source": [
    "df = pd.read_csv('Data.csv')\n",
    "df.head()\n",
    "df.info()\n",
    "category_list = df['category'].unique()"
   ]
  },
  {
   "cell_type": "code",
   "execution_count": 15,
   "id": "545adcef-07f0-4ac5-af2f-f3ce21e555af",
   "metadata": {},
   "outputs": [],
   "source": [
    "from sklearn.preprocessing import LabelEncoder\n",
    "ce = LabelEncoder() \n",
    "df['category'] = ce.fit_transform(df['category'])"
   ]
  },
  {
   "cell_type": "code",
   "execution_count": 16,
   "id": "cebfe2a4-1118-4142-a132-c451560a2b16",
   "metadata": {},
   "outputs": [
    {
     "data": {
      "text/plain": [
       "age          object\n",
       "category      int64\n",
       "amount      float64\n",
       "fraud         int64\n",
       "dtype: object"
      ]
     },
     "execution_count": 16,
     "metadata": {},
     "output_type": "execute_result"
    }
   ],
   "source": [
    "df2 =df.loc[0:49999, df.columns.drop(['step','customer','gender','zipMerchant','merchant','zipcodeOri'])]\n",
    "for i in range(len(df2['age'])):\n",
    "    if df['age'][i] == \"'U'\":\n",
    "        df2 = df2.drop(labels=i, axis=0)\n",
    "        \n",
    "df2.dtypes"
   ]
  },
  {
   "cell_type": "code",
   "execution_count": 17,
   "id": "dd65a3af-c5e5-4268-8188-4753e7734387",
   "metadata": {},
   "outputs": [],
   "source": [
    "import re"
   ]
  },
  {
   "cell_type": "code",
   "execution_count": 18,
   "id": "f0c7ab6d-ad7d-45a7-afbc-ad7a0c1b8eb2",
   "metadata": {
    "tags": []
   },
   "outputs": [],
   "source": [
    "df2['age'] = df2['age'].str.replace('[^0-9]', '', regex=True).astype(int)\n",
    "\n",
    "#df2['merchant'] = df2['merchant'].str.sub('[^0-9]', '', regex=True).astype('int64')\n",
    "#df2['merchant'] = df2['merchant'].replace('[^0-9]', '', regex=True).astype('int64')\n",
    "#df2['merchant'] = re.sub(\"M\", \"0\",df['merchant'].to_list()).astype('int64')"
   ]
  },
  {
   "cell_type": "code",
   "execution_count": 19,
   "id": "ba9d3d8a-28cc-48e9-ae50-6aa17ab1b40f",
   "metadata": {},
   "outputs": [],
   "source": [
    "# df2['age'] = df2['age'].str.replace('[^0-9]', '', regex=True)\n",
    "\n",
    "#df2['merchant'] = df2['merchant'].str.sub('[^0-9]', '', regex=True).astype('int64')\n",
    "#df2['merchant'] = df2['merchant'].replace('[^0-9]', '', regex=True).astype('int64')\n",
    "#df2['merchant'] = re.sub(\"M\", \"0\",df['merchant'].to_list()).astype('int64')"
   ]
  },
  {
   "cell_type": "code",
   "execution_count": 20,
   "id": "51cc630d-56f5-4f1f-b3b2-d9d10d53d939",
   "metadata": {},
   "outputs": [],
   "source": [
    "df2['age']= df2['age'].astype('int')"
   ]
  },
  {
   "cell_type": "code",
   "execution_count": 21,
   "id": "f964f323-5174-4742-9302-ed4c4c7ef7c5",
   "metadata": {},
   "outputs": [
    {
     "data": {
      "text/html": [
       "<div>\n",
       "<style scoped>\n",
       "    .dataframe tbody tr th:only-of-type {\n",
       "        vertical-align: middle;\n",
       "    }\n",
       "\n",
       "    .dataframe tbody tr th {\n",
       "        vertical-align: top;\n",
       "    }\n",
       "\n",
       "    .dataframe thead th {\n",
       "        text-align: right;\n",
       "    }\n",
       "</style>\n",
       "<table border=\"1\" class=\"dataframe\">\n",
       "  <thead>\n",
       "    <tr style=\"text-align: right;\">\n",
       "      <th></th>\n",
       "      <th>age</th>\n",
       "      <th>category</th>\n",
       "      <th>amount</th>\n",
       "      <th>fraud</th>\n",
       "    </tr>\n",
       "  </thead>\n",
       "  <tbody>\n",
       "    <tr>\n",
       "      <th>count</th>\n",
       "      <td>49926.000000</td>\n",
       "      <td>49926.000000</td>\n",
       "      <td>49926.000000</td>\n",
       "      <td>49926.000000</td>\n",
       "    </tr>\n",
       "    <tr>\n",
       "      <th>mean</th>\n",
       "      <td>3.001682</td>\n",
       "      <td>11.134759</td>\n",
       "      <td>39.904945</td>\n",
       "      <td>0.015503</td>\n",
       "    </tr>\n",
       "    <tr>\n",
       "      <th>std</th>\n",
       "      <td>1.330011</td>\n",
       "      <td>2.755710</td>\n",
       "      <td>130.796801</td>\n",
       "      <td>0.123543</td>\n",
       "    </tr>\n",
       "    <tr>\n",
       "      <th>min</th>\n",
       "      <td>0.000000</td>\n",
       "      <td>0.000000</td>\n",
       "      <td>0.000000</td>\n",
       "      <td>0.000000</td>\n",
       "    </tr>\n",
       "    <tr>\n",
       "      <th>25%</th>\n",
       "      <td>2.000000</td>\n",
       "      <td>12.000000</td>\n",
       "      <td>13.802500</td>\n",
       "      <td>0.000000</td>\n",
       "    </tr>\n",
       "    <tr>\n",
       "      <th>50%</th>\n",
       "      <td>3.000000</td>\n",
       "      <td>12.000000</td>\n",
       "      <td>26.980000</td>\n",
       "      <td>0.000000</td>\n",
       "    </tr>\n",
       "    <tr>\n",
       "      <th>75%</th>\n",
       "      <td>4.000000</td>\n",
       "      <td>12.000000</td>\n",
       "      <td>42.880000</td>\n",
       "      <td>0.000000</td>\n",
       "    </tr>\n",
       "    <tr>\n",
       "      <th>max</th>\n",
       "      <td>6.000000</td>\n",
       "      <td>14.000000</td>\n",
       "      <td>7432.480000</td>\n",
       "      <td>1.000000</td>\n",
       "    </tr>\n",
       "  </tbody>\n",
       "</table>\n",
       "</div>"
      ],
      "text/plain": [
       "                age      category        amount         fraud\n",
       "count  49926.000000  49926.000000  49926.000000  49926.000000\n",
       "mean       3.001682     11.134759     39.904945      0.015503\n",
       "std        1.330011      2.755710    130.796801      0.123543\n",
       "min        0.000000      0.000000      0.000000      0.000000\n",
       "25%        2.000000     12.000000     13.802500      0.000000\n",
       "50%        3.000000     12.000000     26.980000      0.000000\n",
       "75%        4.000000     12.000000     42.880000      0.000000\n",
       "max        6.000000     14.000000   7432.480000      1.000000"
      ]
     },
     "execution_count": 21,
     "metadata": {},
     "output_type": "execute_result"
    }
   ],
   "source": [
    "df2.describe()"
   ]
  },
  {
   "cell_type": "code",
   "execution_count": 30,
   "id": "992d45cb-a4d8-4301-ab46-2d3b49f6b05a",
   "metadata": {},
   "outputs": [],
   "source": [
    "from keras import Sequential, Model, Input,regularizers\n",
    "from keras import layers\n",
    "from keras.regularizers import l2\n",
    "from keras.layers import Dropout\n",
    "from tensorflow.keras.layers import Dense\n",
    "from tensorflow.keras.optimizers import Adam\n",
    "from sklearn.model_selection import train_test_split"
   ]
  },
  {
   "cell_type": "code",
   "execution_count": 23,
   "id": "d3131cba-e826-49d4-b654-9ce621fb92f6",
   "metadata": {},
   "outputs": [
    {
     "data": {
      "text/plain": [
       "age           int64\n",
       "category      int64\n",
       "amount      float64\n",
       "fraud         int64\n",
       "dtype: object"
      ]
     },
     "execution_count": 23,
     "metadata": {},
     "output_type": "execute_result"
    }
   ],
   "source": [
    "X = df2.drop(['fraud'],axis=1).values\n",
    "Y = df2[['fraud']].values\n",
    "\n",
    "df2.dtypes"
   ]
  },
  {
   "cell_type": "code",
   "execution_count": 24,
   "id": "d6cce915-60cf-40d5-9157-e4f77fb4569c",
   "metadata": {},
   "outputs": [],
   "source": [
    "x_train,x_test,y_train,y_test = train_test_split(X,Y,test_size=0.20,random_state=4)"
   ]
  },
  {
   "cell_type": "code",
   "execution_count": 25,
   "id": "aaff37df-027b-413e-8998-3f47735def8d",
   "metadata": {},
   "outputs": [
    {
     "name": "stdout",
     "output_type": "stream",
     "text": [
      "Model: \"sequential\"\n",
      "_________________________________________________________________\n",
      " Layer (type)                Output Shape              Param #   \n",
      "=================================================================\n",
      " dense (Dense)               (None, 3)                 12        \n",
      "                                                                 \n",
      " dense_1 (Dense)             (None, 2)                 8         \n",
      "                                                                 \n",
      " dense_2 (Dense)             (None, 1)                 3         \n",
      "                                                                 \n",
      "=================================================================\n",
      "Total params: 23\n",
      "Trainable params: 23\n",
      "Non-trainable params: 0\n",
      "_________________________________________________________________\n"
     ]
    }
   ],
   "source": [
    "model=Sequential()\n",
    "model.add(Dense(3,activation=\"relu\",input_shape=(3,)))\n",
    "model.add(Dense(units=2,activation=\"relu\"))\n",
    "model.add(Dense(units=1,activation=\"sigmoid\"))\n",
    "model.summary()"
   ]
  },
  {
   "cell_type": "code",
   "execution_count": 26,
   "id": "9acb60e0-8c4d-4266-b6f0-d00c24b7d0f1",
   "metadata": {},
   "outputs": [],
   "source": [
    "model.compile(optimizer = 'Adam', loss=\"binary_crossentropy\",metrics=[\"accuracy\"])"
   ]
  },
  {
   "cell_type": "code",
   "execution_count": 27,
   "id": "a81e41c9-de87-41a4-a7f5-cf645b23f4d2",
   "metadata": {},
   "outputs": [
    {
     "name": "stdout",
     "output_type": "stream",
     "text": [
      "Epoch 1/50\n",
      "40/40 [==============================] - 1s 7ms/step - loss: 0.4496 - accuracy: 0.9850 - val_loss: 0.3394 - val_accuracy: 0.9824\n",
      "Epoch 2/50\n",
      "40/40 [==============================] - 0s 2ms/step - loss: 0.1754 - accuracy: 0.9850 - val_loss: 0.1004 - val_accuracy: 0.9824\n",
      "Epoch 3/50\n",
      "40/40 [==============================] - 0s 2ms/step - loss: 0.0901 - accuracy: 0.9850 - val_loss: 0.0856 - val_accuracy: 0.9824\n",
      "Epoch 4/50\n",
      "40/40 [==============================] - 0s 2ms/step - loss: 0.0778 - accuracy: 0.9850 - val_loss: 0.0772 - val_accuracy: 0.9824\n",
      "Epoch 5/50\n",
      "40/40 [==============================] - 0s 2ms/step - loss: 0.0706 - accuracy: 0.9850 - val_loss: 0.0716 - val_accuracy: 0.9824\n",
      "Epoch 6/50\n",
      "40/40 [==============================] - 0s 2ms/step - loss: 0.0657 - accuracy: 0.9850 - val_loss: 0.0679 - val_accuracy: 0.9824\n",
      "Epoch 7/50\n",
      "40/40 [==============================] - 0s 2ms/step - loss: 0.0621 - accuracy: 0.9850 - val_loss: 0.0649 - val_accuracy: 0.9824\n",
      "Epoch 8/50\n",
      "40/40 [==============================] - 0s 2ms/step - loss: 0.0593 - accuracy: 0.9850 - val_loss: 0.0633 - val_accuracy: 0.9824\n",
      "Epoch 9/50\n",
      "40/40 [==============================] - 0s 2ms/step - loss: 0.0571 - accuracy: 0.9850 - val_loss: 0.0617 - val_accuracy: 0.9824\n",
      "Epoch 10/50\n",
      "40/40 [==============================] - 0s 2ms/step - loss: 0.0553 - accuracy: 0.9850 - val_loss: 0.0589 - val_accuracy: 0.9824\n",
      "Epoch 11/50\n",
      "40/40 [==============================] - 0s 2ms/step - loss: 0.0538 - accuracy: 0.9850 - val_loss: 0.0574 - val_accuracy: 0.9824\n",
      "Epoch 12/50\n",
      "40/40 [==============================] - 0s 2ms/step - loss: 0.0524 - accuracy: 0.9850 - val_loss: 0.0563 - val_accuracy: 0.9824\n",
      "Epoch 13/50\n",
      "40/40 [==============================] - 0s 2ms/step - loss: 0.0512 - accuracy: 0.9850 - val_loss: 0.0555 - val_accuracy: 0.9824\n",
      "Epoch 14/50\n",
      "40/40 [==============================] - 0s 2ms/step - loss: 0.0504 - accuracy: 0.9850 - val_loss: 0.0547 - val_accuracy: 0.9824\n",
      "Epoch 15/50\n",
      "40/40 [==============================] - 0s 2ms/step - loss: 0.0493 - accuracy: 0.9850 - val_loss: 0.0535 - val_accuracy: 0.9824\n",
      "Epoch 16/50\n",
      "40/40 [==============================] - 0s 2ms/step - loss: 0.0485 - accuracy: 0.9850 - val_loss: 0.0538 - val_accuracy: 0.9824\n",
      "Epoch 17/50\n",
      "40/40 [==============================] - 0s 2ms/step - loss: 0.0479 - accuracy: 0.9850 - val_loss: 0.0535 - val_accuracy: 0.9824\n",
      "Epoch 18/50\n",
      "40/40 [==============================] - 0s 2ms/step - loss: 0.0471 - accuracy: 0.9850 - val_loss: 0.0514 - val_accuracy: 0.9824\n",
      "Epoch 19/50\n",
      "40/40 [==============================] - 0s 2ms/step - loss: 0.0466 - accuracy: 0.9850 - val_loss: 0.0513 - val_accuracy: 0.9824\n",
      "Epoch 20/50\n",
      "40/40 [==============================] - 0s 2ms/step - loss: 0.0459 - accuracy: 0.9850 - val_loss: 0.0511 - val_accuracy: 0.9824\n",
      "Epoch 21/50\n",
      "40/40 [==============================] - 0s 2ms/step - loss: 0.0455 - accuracy: 0.9850 - val_loss: 0.0504 - val_accuracy: 0.9824\n",
      "Epoch 22/50\n",
      "40/40 [==============================] - 0s 2ms/step - loss: 0.0449 - accuracy: 0.9850 - val_loss: 0.0502 - val_accuracy: 0.9824\n",
      "Epoch 23/50\n",
      "40/40 [==============================] - 0s 2ms/step - loss: 0.0443 - accuracy: 0.9850 - val_loss: 0.0490 - val_accuracy: 0.9824\n",
      "Epoch 24/50\n",
      "40/40 [==============================] - 0s 2ms/step - loss: 0.0440 - accuracy: 0.9850 - val_loss: 0.0487 - val_accuracy: 0.9824\n",
      "Epoch 25/50\n",
      "40/40 [==============================] - 0s 2ms/step - loss: 0.0436 - accuracy: 0.9850 - val_loss: 0.0490 - val_accuracy: 0.9824\n",
      "Epoch 26/50\n",
      "40/40 [==============================] - 0s 2ms/step - loss: 0.0431 - accuracy: 0.9850 - val_loss: 0.0483 - val_accuracy: 0.9824\n",
      "Epoch 27/50\n",
      "40/40 [==============================] - 0s 2ms/step - loss: 0.0428 - accuracy: 0.9850 - val_loss: 0.0476 - val_accuracy: 0.9824\n",
      "Epoch 28/50\n",
      "40/40 [==============================] - 0s 2ms/step - loss: 0.0424 - accuracy: 0.9850 - val_loss: 0.0475 - val_accuracy: 0.9824\n",
      "Epoch 29/50\n",
      "40/40 [==============================] - 0s 2ms/step - loss: 0.0422 - accuracy: 0.9850 - val_loss: 0.0473 - val_accuracy: 0.9824\n",
      "Epoch 30/50\n",
      "40/40 [==============================] - 0s 2ms/step - loss: 0.0419 - accuracy: 0.9850 - val_loss: 0.0465 - val_accuracy: 0.9824\n",
      "Epoch 31/50\n",
      "40/40 [==============================] - 0s 2ms/step - loss: 0.0413 - accuracy: 0.9850 - val_loss: 0.0473 - val_accuracy: 0.9824\n",
      "Epoch 32/50\n",
      "40/40 [==============================] - 0s 2ms/step - loss: 0.0414 - accuracy: 0.9850 - val_loss: 0.0464 - val_accuracy: 0.9824\n",
      "Epoch 33/50\n",
      "40/40 [==============================] - 0s 2ms/step - loss: 0.0410 - accuracy: 0.9850 - val_loss: 0.0458 - val_accuracy: 0.9824\n",
      "Epoch 34/50\n",
      "40/40 [==============================] - 0s 2ms/step - loss: 0.0407 - accuracy: 0.9850 - val_loss: 0.0457 - val_accuracy: 0.9824\n",
      "Epoch 35/50\n",
      "40/40 [==============================] - 0s 2ms/step - loss: 0.0404 - accuracy: 0.9850 - val_loss: 0.0453 - val_accuracy: 0.9824\n",
      "Epoch 36/50\n",
      "40/40 [==============================] - 0s 2ms/step - loss: 0.0402 - accuracy: 0.9850 - val_loss: 0.0457 - val_accuracy: 0.9824\n",
      "Epoch 37/50\n",
      "40/40 [==============================] - 0s 2ms/step - loss: 0.0401 - accuracy: 0.9850 - val_loss: 0.0448 - val_accuracy: 0.9824\n",
      "Epoch 38/50\n",
      "40/40 [==============================] - 0s 2ms/step - loss: 0.0397 - accuracy: 0.9850 - val_loss: 0.0449 - val_accuracy: 0.9824\n",
      "Epoch 39/50\n",
      "40/40 [==============================] - 0s 2ms/step - loss: 0.0395 - accuracy: 0.9850 - val_loss: 0.0443 - val_accuracy: 0.9824\n",
      "Epoch 40/50\n",
      "40/40 [==============================] - 0s 2ms/step - loss: 0.0394 - accuracy: 0.9850 - val_loss: 0.0443 - val_accuracy: 0.9824\n",
      "Epoch 41/50\n",
      "40/40 [==============================] - 0s 2ms/step - loss: 0.0391 - accuracy: 0.9850 - val_loss: 0.0449 - val_accuracy: 0.9824\n",
      "Epoch 42/50\n",
      "40/40 [==============================] - 0s 2ms/step - loss: 0.0390 - accuracy: 0.9850 - val_loss: 0.0437 - val_accuracy: 0.9824\n",
      "Epoch 43/50\n",
      "40/40 [==============================] - 0s 2ms/step - loss: 0.0387 - accuracy: 0.9850 - val_loss: 0.0437 - val_accuracy: 0.9824\n",
      "Epoch 44/50\n",
      "40/40 [==============================] - 0s 2ms/step - loss: 0.0386 - accuracy: 0.9850 - val_loss: 0.0437 - val_accuracy: 0.9824\n",
      "Epoch 45/50\n",
      "40/40 [==============================] - 0s 2ms/step - loss: 0.0383 - accuracy: 0.9850 - val_loss: 0.0441 - val_accuracy: 0.9824\n",
      "Epoch 46/50\n",
      "40/40 [==============================] - 0s 2ms/step - loss: 0.0386 - accuracy: 0.9850 - val_loss: 0.0435 - val_accuracy: 0.9824\n",
      "Epoch 47/50\n",
      "40/40 [==============================] - 0s 2ms/step - loss: 0.0384 - accuracy: 0.9850 - val_loss: 0.0428 - val_accuracy: 0.9824\n",
      "Epoch 48/50\n",
      "40/40 [==============================] - 0s 2ms/step - loss: 0.0380 - accuracy: 0.9850 - val_loss: 0.0426 - val_accuracy: 0.9824\n",
      "Epoch 49/50\n",
      "40/40 [==============================] - 0s 2ms/step - loss: 0.0377 - accuracy: 0.9850 - val_loss: 0.0425 - val_accuracy: 0.9824\n",
      "Epoch 50/50\n",
      "40/40 [==============================] - 0s 2ms/step - loss: 0.0376 - accuracy: 0.9850 - val_loss: 0.0423 - val_accuracy: 0.9824\n"
     ]
    }
   ],
   "source": [
    "history = model.fit(x_train,y_train,batch_size=1000,epochs=50,validation_data=(x_test,y_test))"
   ]
  },
  {
   "cell_type": "code",
   "execution_count": 28,
   "id": "d9023614-7d47-4e73-8d9a-0a5eb0304156",
   "metadata": {},
   "outputs": [
    {
     "data": {
      "image/png": "[encoded data removed]",
      "text/plain": [
       "<Figure size 640x480 with 1 Axes>"
      ]
     },
     "metadata": {},
     "output_type": "display_data"
    }
   ],
   "source": [
    "from matplotlib import pyplot\n",
    "pyplot.plot(history.history['accuracy'], label='train')\n",
    "pyplot.plot(history.history['val_accuracy'], label='test')\n",
    "pyplot.title('Model Accuracy')\n",
    "pyplot.ylabel('Accuracy')\n",
    "pyplot.xlabel('Epoch')\n",
    "pyplot.legend(['train','test'],loc='lower right')\n",
    "pyplot.show()"
   ]
  },
  {
   "cell_type": "code",
   "execution_count": 29,
   "id": "bb7a9942-f673-4788-952b-ab67b788654e",
   "metadata": {},
   "outputs": [
    {
     "data": {
      "image/png": "[encoded data removed]",
      "text/plain": [
       "<Figure size 640x480 with 1 Axes>"
      ]
     },
     "metadata": {},
     "output_type": "display_data"
    }
   ],
   "source": [
    "pyplot.plot(history.history['loss'], label='train')\n",
    "pyplot.plot(history.history['val_loss'], label='test')\n",
    "pyplot.title('Model Loss')\n",
    "pyplot.ylabel('Loss')\n",
    "pyplot.xlabel('Epoch')\n",
    "pyplot.legend()\n",
    "pyplot.show()"
   ]
  },
  {
   "cell_type": "code",
   "execution_count": null,
   "id": "af3663de-cde0-4744-9ce3-6014333fe07e",
   "metadata": {},
   "outputs": [],
   "source": []
  },
  {
   "cell_type": "code",
   "execution_count": null,
   "id": "411ba521-de6a-468b-b71c-258ec770f5e5",
   "metadata": {},
   "outputs": [],
   "source": []
  },
  {
   "cell_type": "code",
   "execution_count": null,
   "id": "03a960ea-58fa-4548-a41f-91756139fe1a",
   "metadata": {},
   "outputs": [],
   "source": []
  },
  {
   "cell_type": "code",
   "execution_count": null,
   "id": "6a9eac1d-b422-4e87-9b34-95e4bc125470",
   "metadata": {},
   "outputs": [],
   "source": []
  },
  {
   "cell_type": "code",
   "execution_count": null,
   "id": "918bbfc1-8fab-4726-b3ee-9943d129ca48",
   "metadata": {},
   "outputs": [],
   "source": []
  },
  {
   "cell_type": "code",
   "execution_count": null,
   "id": "d47036f0-4647-4fc1-9e01-56b3ba907294",
   "metadata": {},
   "outputs": [],
   "source": []
  },
  {
   "cell_type": "code",
   "execution_count": null,
   "id": "c9ea0455-fa05-4324-97a8-0a0d13c4d73c",
   "metadata": {},
   "outputs": [],
   "source": []
  },
  {
   "cell_type": "code",
   "execution_count": null,
   "id": "e88be890-21b4-47c4-a6e9-15941a5ad5b9",
   "metadata": {},
   "outputs": [],
   "source": []
  },
  {
   "cell_type": "code",
   "execution_count": null,
   "id": "3bb2f243-7f4c-40e4-9f25-fdcd9aeee4ae",
   "metadata": {},
   "outputs": [],
   "source": []
  },
  {
   "cell_type": "code",
   "execution_count": null,
   "id": "587195af-9f5f-49e8-b5d5-8fa6d308ef50",
   "metadata": {},
   "outputs": [],
   "source": []
  },
  {
   "cell_type": "code",
   "execution_count": null,
   "id": "2dd3661b-0abd-4585-99cd-3c6b1c88be24",
   "metadata": {},
   "outputs": [],
   "source": []
  },
  {
   "cell_type": "code",
   "execution_count": null,
   "id": "61449848-1ece-4230-9338-efb83a7db85d",
   "metadata": {},
   "outputs": [],
   "source": []
  },
  {
   "cell_type": "code",
   "execution_count": null,
   "id": "3b0f68ee-7f5d-4442-b1ef-d2afe5e97029",
   "metadata": {},
   "outputs": [],
   "source": []
  },
  {
   "cell_type": "code",
   "execution_count": null,
   "id": "1611bf63-7ce3-4daa-91a9-1532646069cb",
   "metadata": {},
   "outputs": [],
   "source": []
  },
  {
   "cell_type": "code",
   "execution_count": null,
   "id": "66d65462-d515-4eb5-b524-4c6133777573",
   "metadata": {},
   "outputs": [],
   "source": [
    "\n"
   ]
  }
 ],
 "metadata": {
  "kernelspec": {
   "display_name": "Python 3 [Default]",
   "language": "python",
   "name": "python3"
  },
  "language_info": {
   "codemirror_mode": {
    "name": "ipython",
    "version": 3
   },
   "file_extension": ".py",
   "mimetype": "text/x-python",
   "name": "python",
   "nbconvert_exporter": "python",
   "pygments_lexer": "ipython3",
   "version": "3.9.10"
  }
 },
 "nbformat": 4,
 "nbformat_minor": 5
}
